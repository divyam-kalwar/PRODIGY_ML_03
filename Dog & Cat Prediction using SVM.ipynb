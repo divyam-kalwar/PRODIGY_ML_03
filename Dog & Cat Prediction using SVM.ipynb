{
 "cells": [
  {
   "cell_type": "code",
   "execution_count": 21,
   "id": "7665f4b2",
   "metadata": {},
   "outputs": [],
   "source": [
    "import os\n",
    "import numpy as np\n",
    "import pandas as pd\n",
    "import matplotlib.pyplot as plt\n",
    "import seaborn as sns\n",
    "import cv2 as cv\n",
    "from sklearn.model_selection import cross_val_score, StratifiedKFold, train_test_split\n",
    "from sklearn.preprocessing import StandardScaler\n",
    "from sklearn.metrics import confusion_matrix, classification_report\n",
    "from sklearn.svm import SVC\n",
    "from sklearn.metrics import accuracy_score\n",
    "import pickle\n",
    "import random"
   ]
  },
  {
   "cell_type": "markdown",
   "id": "cfaf3187",
   "metadata": {},
   "source": [
    "# Data Preparation"
   ]
  },
  {
   "cell_type": "code",
   "execution_count": 2,
   "id": "7fdebc9e",
   "metadata": {},
   "outputs": [],
   "source": [
    "def preprocess_images_from_folder(folder_path):\n",
    "    data = []\n",
    "    for img in os.listdir(folder_path):\n",
    "        img_path = os.path.join(folder_path, img)\n",
    "        pet_img = cv.imread(img_path, 0)\n",
    "        pet_img = cv.resize(pet_img, (65, 65))\n",
    "        image = np.array(pet_img).flatten()/ 255.0\n",
    "        label = int(\"dog\" in img)\n",
    "        data.append((image, label))\n",
    "    return data"
   ]
  },
  {
   "cell_type": "code",
   "execution_count": 3,
   "id": "3c3b1c93",
   "metadata": {},
   "outputs": [],
   "source": [
    "def save_pickle(file_path, data):\n",
    "    with open(file_path, 'wb') as f:\n",
    "        pickle.dump(data, f)"
   ]
  },
  {
   "cell_type": "code",
   "execution_count": 4,
   "id": "88654c71",
   "metadata": {},
   "outputs": [],
   "source": [
    "train_folder = 'train'\n",
    "test_folder = 'test1'"
   ]
  },
  {
   "cell_type": "code",
   "execution_count": 5,
   "id": "a8c8cfbd",
   "metadata": {},
   "outputs": [],
   "source": [
    "train_data = preprocess_images_from_folder(train_folder)\n",
    "test_data = preprocess_images_from_folder(test_folder)"
   ]
  },
  {
   "cell_type": "code",
   "execution_count": 6,
   "id": "325aafdb",
   "metadata": {},
   "outputs": [],
   "source": [
    "save_pickle('train_data.pickle', train_data)\n",
    "save_pickle('test_data.pickle', test_data)"
   ]
  },
  {
   "cell_type": "code",
   "execution_count": 7,
   "id": "032d5487",
   "metadata": {},
   "outputs": [],
   "source": [
    "def feature_label(data):\n",
    "    random.shuffle(data)\n",
    "    features, labels = zip(*data)\n",
    "    return features, labels"
   ]
  },
  {
   "cell_type": "markdown",
   "id": "410e0664",
   "metadata": {},
   "source": [
    "# Model Training"
   ]
  },
  {
   "cell_type": "code",
   "execution_count": 8,
   "id": "e3b03f77",
   "metadata": {},
   "outputs": [],
   "source": [
    "x, y = feature_label(train_data)"
   ]
  },
  {
   "cell_type": "code",
   "execution_count": 9,
   "id": "b83eff86",
   "metadata": {},
   "outputs": [],
   "source": [
    "x_train, x_test, y_train, y_test = train_test_split(x, y, test_size=0.25, random_state=42)"
   ]
  },
  {
   "cell_type": "code",
   "execution_count": 10,
   "id": "d67c4426",
   "metadata": {},
   "outputs": [],
   "source": [
    "model = SVC(C=1 , kernel = 'rbf', gamma = 'auto')"
   ]
  },
  {
   "cell_type": "code",
   "execution_count": 11,
   "id": "cd944ee8",
   "metadata": {},
   "outputs": [],
   "source": [
    "cv = StratifiedKFold(n_splits=10, shuffle=True, random_state=42)"
   ]
  },
  {
   "cell_type": "code",
   "execution_count": 12,
   "id": "198dca1e",
   "metadata": {},
   "outputs": [],
   "source": [
    "cv_scores = cross_val_score(model, x_train, y_train, cv=cv, scoring='accuracy')"
   ]
  },
  {
   "cell_type": "code",
   "execution_count": 13,
   "id": "8779be77",
   "metadata": {},
   "outputs": [
    {
     "name": "stdout",
     "output_type": "stream",
     "text": [
      "Cross-Validation Scores: [0.5952     0.61546667 0.61546667 0.5936     0.6048     0.60426667\n",
      " 0.61013333 0.6112     0.60746667 0.60266667]\n",
      "Mean Accuracy: 0.6060266666666667\n"
     ]
    }
   ],
   "source": [
    "print(\"Cross-Validation Scores:\", cv_scores)\n",
    "print(\"Mean Accuracy:\", np.mean(cv_scores))"
   ]
  },
  {
   "cell_type": "code",
   "execution_count": 14,
   "id": "17299764",
   "metadata": {},
   "outputs": [
    {
     "data": {
      "text/html": [
       "<style>#sk-container-id-1 {color: black;background-color: white;}#sk-container-id-1 pre{padding: 0;}#sk-container-id-1 div.sk-toggleable {background-color: white;}#sk-container-id-1 label.sk-toggleable__label {cursor: pointer;display: block;width: 100%;margin-bottom: 0;padding: 0.3em;box-sizing: border-box;text-align: center;}#sk-container-id-1 label.sk-toggleable__label-arrow:before {content: \"▸\";float: left;margin-right: 0.25em;color: #696969;}#sk-container-id-1 label.sk-toggleable__label-arrow:hover:before {color: black;}#sk-container-id-1 div.sk-estimator:hover label.sk-toggleable__label-arrow:before {color: black;}#sk-container-id-1 div.sk-toggleable__content {max-height: 0;max-width: 0;overflow: hidden;text-align: left;background-color: #f0f8ff;}#sk-container-id-1 div.sk-toggleable__content pre {margin: 0.2em;color: black;border-radius: 0.25em;background-color: #f0f8ff;}#sk-container-id-1 input.sk-toggleable__control:checked~div.sk-toggleable__content {max-height: 200px;max-width: 100%;overflow: auto;}#sk-container-id-1 input.sk-toggleable__control:checked~label.sk-toggleable__label-arrow:before {content: \"▾\";}#sk-container-id-1 div.sk-estimator input.sk-toggleable__control:checked~label.sk-toggleable__label {background-color: #d4ebff;}#sk-container-id-1 div.sk-label input.sk-toggleable__control:checked~label.sk-toggleable__label {background-color: #d4ebff;}#sk-container-id-1 input.sk-hidden--visually {border: 0;clip: rect(1px 1px 1px 1px);clip: rect(1px, 1px, 1px, 1px);height: 1px;margin: -1px;overflow: hidden;padding: 0;position: absolute;width: 1px;}#sk-container-id-1 div.sk-estimator {font-family: monospace;background-color: #f0f8ff;border: 1px dotted black;border-radius: 0.25em;box-sizing: border-box;margin-bottom: 0.5em;}#sk-container-id-1 div.sk-estimator:hover {background-color: #d4ebff;}#sk-container-id-1 div.sk-parallel-item::after {content: \"\";width: 100%;border-bottom: 1px solid gray;flex-grow: 1;}#sk-container-id-1 div.sk-label:hover label.sk-toggleable__label {background-color: #d4ebff;}#sk-container-id-1 div.sk-serial::before {content: \"\";position: absolute;border-left: 1px solid gray;box-sizing: border-box;top: 0;bottom: 0;left: 50%;z-index: 0;}#sk-container-id-1 div.sk-serial {display: flex;flex-direction: column;align-items: center;background-color: white;padding-right: 0.2em;padding-left: 0.2em;position: relative;}#sk-container-id-1 div.sk-item {position: relative;z-index: 1;}#sk-container-id-1 div.sk-parallel {display: flex;align-items: stretch;justify-content: center;background-color: white;position: relative;}#sk-container-id-1 div.sk-item::before, #sk-container-id-1 div.sk-parallel-item::before {content: \"\";position: absolute;border-left: 1px solid gray;box-sizing: border-box;top: 0;bottom: 0;left: 50%;z-index: -1;}#sk-container-id-1 div.sk-parallel-item {display: flex;flex-direction: column;z-index: 1;position: relative;background-color: white;}#sk-container-id-1 div.sk-parallel-item:first-child::after {align-self: flex-end;width: 50%;}#sk-container-id-1 div.sk-parallel-item:last-child::after {align-self: flex-start;width: 50%;}#sk-container-id-1 div.sk-parallel-item:only-child::after {width: 0;}#sk-container-id-1 div.sk-dashed-wrapped {border: 1px dashed gray;margin: 0 0.4em 0.5em 0.4em;box-sizing: border-box;padding-bottom: 0.4em;background-color: white;}#sk-container-id-1 div.sk-label label {font-family: monospace;font-weight: bold;display: inline-block;line-height: 1.2em;}#sk-container-id-1 div.sk-label-container {text-align: center;}#sk-container-id-1 div.sk-container {/* jupyter's `normalize.less` sets `[hidden] { display: none; }` but bootstrap.min.css set `[hidden] { display: none !important; }` so we also need the `!important` here to be able to override the default hidden behavior on the sphinx rendered scikit-learn.org. See: https://github.com/scikit-learn/scikit-learn/issues/21755 */display: inline-block !important;position: relative;}#sk-container-id-1 div.sk-text-repr-fallback {display: none;}</style><div id=\"sk-container-id-1\" class=\"sk-top-container\"><div class=\"sk-text-repr-fallback\"><pre>SVC(C=1, gamma=&#x27;auto&#x27;)</pre><b>In a Jupyter environment, please rerun this cell to show the HTML representation or trust the notebook. <br />On GitHub, the HTML representation is unable to render, please try loading this page with nbviewer.org.</b></div><div class=\"sk-container\" hidden><div class=\"sk-item\"><div class=\"sk-estimator sk-toggleable\"><input class=\"sk-toggleable__control sk-hidden--visually\" id=\"sk-estimator-id-1\" type=\"checkbox\" checked><label for=\"sk-estimator-id-1\" class=\"sk-toggleable__label sk-toggleable__label-arrow\">SVC</label><div class=\"sk-toggleable__content\"><pre>SVC(C=1, gamma=&#x27;auto&#x27;)</pre></div></div></div></div></div>"
      ],
      "text/plain": [
       "SVC(C=1, gamma='auto')"
      ]
     },
     "execution_count": 14,
     "metadata": {},
     "output_type": "execute_result"
    }
   ],
   "source": [
    "model.fit(x_train, y_train)"
   ]
  },
  {
   "cell_type": "code",
   "execution_count": 38,
   "id": "3a06315d",
   "metadata": {},
   "outputs": [],
   "source": [
    "pick = open('model.sav', 'wb')\n",
    "pickle.dump(model, pick)\n",
    "pick.close()"
   ]
  },
  {
   "cell_type": "code",
   "execution_count": 15,
   "id": "8cb4fe21",
   "metadata": {},
   "outputs": [],
   "source": [
    "y_pred = model.predict(x_test)"
   ]
  },
  {
   "cell_type": "markdown",
   "id": "96d52d59",
   "metadata": {},
   "source": [
    "# Model Evaluation & Predictions"
   ]
  },
  {
   "cell_type": "code",
   "execution_count": 16,
   "id": "e70124d8",
   "metadata": {},
   "outputs": [
    {
     "name": "stdout",
     "output_type": "stream",
     "text": [
      "Accuracy on the test set: 0.59824\n"
     ]
    }
   ],
   "source": [
    "# Evaluate the model\n",
    "accuracy = accuracy_score(y_test, y_pred)\n",
    "print(f\"Accuracy on the test set: {accuracy}\")"
   ]
  },
  {
   "cell_type": "code",
   "execution_count": 17,
   "id": "202a14d2",
   "metadata": {},
   "outputs": [],
   "source": [
    "# Predict on the unseen test data\n",
    "x_test_unseen, y_test_unseen = feature_label(test_data)\n",
    "y_pred_unseen = model.predict(x_test_unseen)"
   ]
  },
  {
   "cell_type": "code",
   "execution_count": 46,
   "id": "bdbb7499",
   "metadata": {},
   "outputs": [
    {
     "name": "stdout",
     "output_type": "stream",
     "text": [
      "Prediction:  1\n"
     ]
    },
    {
     "data": {
      "text/plain": [
       "<function matplotlib.pyplot.show(close=None, block=None)>"
      ]
     },
     "execution_count": 46,
     "metadata": {},
     "output_type": "execute_result"
    },
    {
     "data": {
      "image/png": "[encoded data removed]",
      "text/plain": [
       "<Figure size 640x480 with 1 Axes>"
      ]
     },
     "metadata": {},
     "output_type": "display_data"
    }
   ],
   "source": [
    "print('Prediction: ', y_pred_unseen[0])\n",
    "mypet = x_test_unseen[0].reshape(65,65)\n",
    "plt.imshow(mypet, cmap = 'gray')\n",
    "plt.show"
   ]
  },
  {
   "cell_type": "code",
   "execution_count": 30,
   "id": "7a0f80bb",
   "metadata": {},
   "outputs": [],
   "source": [
    "# Create a DataFrame with id and label columns and save in .csv\n",
    "predictions_df = pd.DataFrame({'id': range(1, len(y_pred_unseen) + 1), 'label': y_pred_unseen})\n",
    "predictions_df.to_csv('submission.csv', index=False)"
   ]
  },
  {
   "cell_type": "code",
   "execution_count": 19,
   "id": "0e4b8c0f",
   "metadata": {},
   "outputs": [
    {
     "name": "stdout",
     "output_type": "stream",
     "text": [
      "          id  label\n",
      "0          1      1\n",
      "1          2      0\n",
      "2          3      1\n",
      "3          4      0\n",
      "4          5      0\n",
      "...      ...    ...\n",
      "12495  12496      1\n",
      "12496  12497      0\n",
      "12497  12498      0\n",
      "12498  12499      1\n",
      "12499  12500      1\n",
      "\n",
      "[12500 rows x 2 columns]\n"
     ]
    }
   ],
   "source": [
    "print(predictions_df)"
   ]
  },
  {
   "cell_type": "code",
   "execution_count": 41,
   "id": "dd350677",
   "metadata": {},
   "outputs": [
    {
     "data": {
      "image/png": "[encoded data removed]",
      "text/plain": [
       "<Figure size 600x600 with 1 Axes>"
      ]
     },
     "metadata": {},
     "output_type": "display_data"
    }
   ],
   "source": [
    "cm_val = confusion_matrix(y_test, y_pred)\n",
    "plt.figure(figsize=(6, 6))\n",
    "sns.heatmap(cm_val, annot=True, fmt='d', cmap='Blues', cbar=False, square=True)\n",
    "plt.xlabel('Predicted')\n",
    "plt.ylabel('Actual')\n",
    "plt.title('Confusion Matrix - Test Set')\n",
    "plt.show()"
   ]
  },
  {
   "cell_type": "code",
   "execution_count": 39,
   "id": "56bb4aa1",
   "metadata": {},
   "outputs": [
    {
     "name": "stdout",
     "output_type": "stream",
     "text": [
      "Classification Report - Validation Set:\n",
      "              precision    recall  f1-score   support\n",
      "\n",
      "           0       0.63      0.48      0.55      3145\n",
      "           1       0.58      0.71      0.64      3105\n",
      "\n",
      "    accuracy                           0.60      6250\n",
      "   macro avg       0.60      0.60      0.59      6250\n",
      "weighted avg       0.60      0.60      0.59      6250\n",
      "\n"
     ]
    }
   ],
   "source": [
    "# Visualize classification report for test set\n",
    "report_val = classification_report(y_test, y_pred)\n",
    "print(\"Classification Report - Validation Set:\")\n",
    "print(report_val)"
   ]
  },
  {
   "cell_type": "code",
   "execution_count": 42,
   "id": "54a0e925",
   "metadata": {},
   "outputs": [
    {
     "data": {
      "image/png": "[encoded data removed]",
      "text/plain": [
       "<Figure size 600x600 with 1 Axes>"
      ]
     },
     "metadata": {},
     "output_type": "display_data"
    }
   ],
   "source": [
    "# Visualize confusion matrix for unseen set\n",
    "cm_test = confusion_matrix(y_test_unseen, y_pred_unseen)\n",
    "plt.figure(figsize=(6, 6))\n",
    "sns.heatmap(cm_test, annot=True, fmt='d', cmap='Blues', cbar=False, square=True)\n",
    "plt.xlabel('Predicted')\n",
    "plt.ylabel('Actual')\n",
    "plt.title('Confusion Matrix - Unseen Data')\n",
    "plt.show()"
   ]
  },
  {
   "cell_type": "code",
   "execution_count": 40,
   "id": "1df6c816",
   "metadata": {},
   "outputs": [
    {
     "name": "stdout",
     "output_type": "stream",
     "text": [
      "Classification Report - Test Set:\n",
      "              precision    recall  f1-score   support\n",
      "\n",
      "           0       1.00      0.37      0.54     12500\n",
      "           1       0.00      0.00      0.00         0\n",
      "\n",
      "    accuracy                           0.37     12500\n",
      "   macro avg       0.50      0.19      0.27     12500\n",
      "weighted avg       1.00      0.37      0.54     12500\n",
      "\n"
     ]
    },
    {
     "name": "stderr",
     "output_type": "stream",
     "text": [
      "C:\\Users\\divya\\anaconda3\\Lib\\site-packages\\sklearn\\metrics\\_classification.py:1344: UndefinedMetricWarning: Recall and F-score are ill-defined and being set to 0.0 in labels with no true samples. Use `zero_division` parameter to control this behavior.\n",
      "  _warn_prf(average, modifier, msg_start, len(result))\n",
      "C:\\Users\\divya\\anaconda3\\Lib\\site-packages\\sklearn\\metrics\\_classification.py:1344: UndefinedMetricWarning: Recall and F-score are ill-defined and being set to 0.0 in labels with no true samples. Use `zero_division` parameter to control this behavior.\n",
      "  _warn_prf(average, modifier, msg_start, len(result))\n",
      "C:\\Users\\divya\\anaconda3\\Lib\\site-packages\\sklearn\\metrics\\_classification.py:1344: UndefinedMetricWarning: Recall and F-score are ill-defined and being set to 0.0 in labels with no true samples. Use `zero_division` parameter to control this behavior.\n",
      "  _warn_prf(average, modifier, msg_start, len(result))\n"
     ]
    }
   ],
   "source": [
    "# Visualize classification report for unseen set\n",
    "report_test = classification_report(y_test_unseen, y_pred_unseen)\n",
    "print(\"Classification Report - Test Set:\")\n",
    "print(report_test)"
   ]
  },
  {
   "cell_type": "code",
   "execution_count": null,
   "id": "05bcad8b",
   "metadata": {},
   "outputs": [],
   "source": []
  }
 ],
 "metadata": {
  "kernelspec": {
   "display_name": "Python 3 (ipykernel)",
   "language": "python",
   "name": "python3"
  },
  "language_info": {
   "codemirror_mode": {
    "name": "ipython",
    "version": 3
   },
   "file_extension": ".py",
   "mimetype": "text/x-python",
   "name": "python",
   "nbconvert_exporter": "python",
   "pygments_lexer": "ipython3",
   "version": "3.11.5"
  }
 },
 "nbformat": 4,
 "nbformat_minor": 5
}
